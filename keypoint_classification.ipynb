{
 "cells": [
  {
   "cell_type": "code",
   "execution_count": 89,
   "metadata": {},
   "outputs": [],
   "source": [
    "import csv\n",
    "\n",
    "import numpy as np\n",
    "import tensorflow as tf\n",
    "from sklearn.model_selection import train_test_split\n",
    "\n",
    "RANDOM_SEED = 42"
   ]
  },
  {
   "cell_type": "markdown",
   "metadata": {},
   "source": [
    "# 各パス指定"
   ]
  },
  {
   "cell_type": "code",
   "execution_count": 90,
   "metadata": {},
   "outputs": [],
   "source": [
    "dataset = 'model/keypoint_classifier/keypoint.csv'\n",
    "model_save_path = 'model/keypoint_classifier/keypoint_classifier.hdf5'"
   ]
  },
  {
   "cell_type": "markdown",
   "metadata": {},
   "source": [
    "# 分類数設定"
   ]
  },
  {
   "cell_type": "code",
   "execution_count": 91,
   "metadata": {},
   "outputs": [],
   "source": [
    "NUM_CLASSES = 10"
   ]
  },
  {
   "cell_type": "markdown",
   "metadata": {},
   "source": [
    "# 学習データ読み込み"
   ]
  },
  {
   "cell_type": "code",
   "execution_count": 92,
   "metadata": {},
   "outputs": [],
   "source": [
    "X_dataset = np.loadtxt(dataset, delimiter=',', dtype='float32', usecols=list(range(1, (21 * 2) + 1)))"
   ]
  },
  {
   "cell_type": "code",
   "execution_count": 93,
   "metadata": {},
   "outputs": [],
   "source": [
    "y_dataset = np.loadtxt(dataset, delimiter=',', dtype='int32', usecols=(0))"
   ]
  },
  {
   "cell_type": "code",
   "execution_count": 94,
   "metadata": {},
   "outputs": [],
   "source": [
    "X_train, X_test, y_train, y_test = train_test_split(X_dataset, y_dataset, train_size=0.75, random_state=RANDOM_SEED)"
   ]
  },
  {
   "cell_type": "markdown",
   "metadata": {},
   "source": [
    "# モデル構築"
   ]
  },
  {
   "cell_type": "code",
   "execution_count": 95,
   "metadata": {},
   "outputs": [],
   "source": [
    "model = tf.keras.models.Sequential([\n",
    "    tf.keras.layers.Input((21 * 2, )),\n",
    "    tf.keras.layers.Dropout(0.2),\n",
    "    tf.keras.layers.Dense(20, activation='relu'),\n",
    "    tf.keras.layers.Dropout(0.4),\n",
    "    tf.keras.layers.Dense(10, activation='relu'),\n",
    "    tf.keras.layers.Dense(NUM_CLASSES, activation='softmax')\n",
    "])"
   ]
  },
  {
   "cell_type": "code",
   "execution_count": 96,
   "metadata": {},
   "outputs": [
    {
     "name": "stdout",
     "output_type": "stream",
     "text": [
      "Model: \"sequential_4\"\n",
      "_________________________________________________________________\n",
      " Layer (type)                Output Shape              Param #   \n",
      "=================================================================\n",
      " dropout_8 (Dropout)         (None, 42)                0         \n",
      "                                                                 \n",
      " dense_12 (Dense)            (None, 20)                860       \n",
      "                                                                 \n",
      " dropout_9 (Dropout)         (None, 20)                0         \n",
      "                                                                 \n",
      " dense_13 (Dense)            (None, 10)                210       \n",
      "                                                                 \n",
      " dense_14 (Dense)            (None, 10)                110       \n",
      "                                                                 \n",
      "=================================================================\n",
      "Total params: 1180 (4.61 KB)\n",
      "Trainable params: 1180 (4.61 KB)\n",
      "Non-trainable params: 0 (0.00 Byte)\n",
      "_________________________________________________________________\n"
     ]
    }
   ],
   "source": [
    "model.summary()  # tf.keras.utils.plot_model(model, show_shapes=True)"
   ]
  },
  {
   "cell_type": "code",
   "execution_count": 97,
   "metadata": {},
   "outputs": [],
   "source": [
    "# モデルチェックポイントのコールバック\n",
    "cp_callback = tf.keras.callbacks.ModelCheckpoint(\n",
    "    model_save_path, verbose=1, save_weights_only=False)\n",
    "# 早期打ち切り用コールバック\n",
    "es_callback = tf.keras.callbacks.EarlyStopping(patience=20, verbose=1)"
   ]
  },
  {
   "cell_type": "code",
   "execution_count": 98,
   "metadata": {},
   "outputs": [],
   "source": [
    "# モデルコンパイル\n",
    "model.compile(\n",
    "    optimizer='adam',\n",
    "    loss='sparse_categorical_crossentropy',\n",
    "    metrics=['accuracy']\n",
    ")"
   ]
  },
  {
   "cell_type": "markdown",
   "metadata": {},
   "source": [
    "# モデル訓練"
   ]
  },
  {
   "cell_type": "code",
   "execution_count": 99,
   "metadata": {
    "scrolled": true
   },
   "outputs": [
    {
     "name": "stdout",
     "output_type": "stream",
     "text": [
      "Epoch 1/1000\n",
      "55/66 [========================>.....] - ETA: 0s - loss: 2.2882 - accuracy: 0.1304\n",
      "Epoch 1: saving model to model/keypoint_classifier/keypoint_classifier.hdf5\n",
      "66/66 [==============================] - 2s 12ms/step - loss: 2.2725 - accuracy: 0.1426 - val_loss: 2.1489 - val_accuracy: 0.2545\n",
      "Epoch 2/1000\n",
      "22/66 [=========>....................] - ETA: 0s - loss: 2.1638 - accuracy: 0.2294"
     ]
    },
    {
     "name": "stderr",
     "output_type": "stream",
     "text": [
      "/home/masooma/.local/lib/python3.10/site-packages/keras/src/engine/training.py:3000: UserWarning: You are saving your model as an HDF5 file via `model.save()`. This file format is considered legacy. We recommend using instead the native Keras format, e.g. `model.save('my_model.keras')`.\n",
      "  saving_api.save_model(\n"
     ]
    },
    {
     "name": "stdout",
     "output_type": "stream",
     "text": [
      "57/66 [========================>.....] - ETA: 0s - loss: 2.1042 - accuracy: 0.2530\n",
      "Epoch 2: saving model to model/keypoint_classifier/keypoint_classifier.hdf5\n",
      "66/66 [==============================] - 1s 8ms/step - loss: 2.0866 - accuracy: 0.2589 - val_loss: 1.8575 - val_accuracy: 0.3439\n",
      "Epoch 3/1000\n",
      "65/66 [============================>.] - ETA: 0s - loss: 1.8130 - accuracy: 0.3412\n",
      "Epoch 3: saving model to model/keypoint_classifier/keypoint_classifier.hdf5\n",
      "66/66 [==============================] - 1s 9ms/step - loss: 1.8104 - accuracy: 0.3422 - val_loss: 1.4495 - val_accuracy: 0.5499\n",
      "Epoch 4/1000\n",
      "63/66 [===========================>..] - ETA: 0s - loss: 1.5293 - accuracy: 0.4301\n",
      "Epoch 4: saving model to model/keypoint_classifier/keypoint_classifier.hdf5\n",
      "66/66 [==============================] - 0s 7ms/step - loss: 1.5246 - accuracy: 0.4326 - val_loss: 1.1106 - val_accuracy: 0.7309\n",
      "Epoch 5/1000\n",
      "58/66 [=========================>....] - ETA: 0s - loss: 1.3253 - accuracy: 0.4894\n",
      "Epoch 5: saving model to model/keypoint_classifier/keypoint_classifier.hdf5\n",
      "66/66 [==============================] - 1s 8ms/step - loss: 1.3125 - accuracy: 0.4941 - val_loss: 0.8909 - val_accuracy: 0.7833\n",
      "Epoch 6/1000\n",
      "66/66 [==============================] - ETA: 0s - loss: 1.1683 - accuracy: 0.5543\n",
      "Epoch 6: saving model to model/keypoint_classifier/keypoint_classifier.hdf5\n",
      "66/66 [==============================] - 0s 7ms/step - loss: 1.1683 - accuracy: 0.5543 - val_loss: 0.7579 - val_accuracy: 0.8100\n",
      "Epoch 7/1000\n",
      "56/66 [========================>.....] - ETA: 0s - loss: 1.0802 - accuracy: 0.5841\n",
      "Epoch 7: saving model to model/keypoint_classifier/keypoint_classifier.hdf5\n",
      "66/66 [==============================] - 0s 7ms/step - loss: 1.0732 - accuracy: 0.5876 - val_loss: 0.6578 - val_accuracy: 0.8172\n",
      "Epoch 8/1000\n",
      "63/66 [===========================>..] - ETA: 0s - loss: 0.9934 - accuracy: 0.6135\n",
      "Epoch 8: saving model to model/keypoint_classifier/keypoint_classifier.hdf5\n",
      "66/66 [==============================] - 1s 9ms/step - loss: 0.9909 - accuracy: 0.6145 - val_loss: 0.6035 - val_accuracy: 0.8204\n",
      "Epoch 9/1000\n",
      "63/66 [===========================>..] - ETA: 0s - loss: 0.9327 - accuracy: 0.6266\n",
      "Epoch 9: saving model to model/keypoint_classifier/keypoint_classifier.hdf5\n",
      "66/66 [==============================] - 0s 7ms/step - loss: 0.9315 - accuracy: 0.6277 - val_loss: 0.5549 - val_accuracy: 0.8225\n",
      "Epoch 10/1000\n",
      "66/66 [==============================] - ETA: 0s - loss: 0.8942 - accuracy: 0.6446\n",
      "Epoch 10: saving model to model/keypoint_classifier/keypoint_classifier.hdf5\n",
      "66/66 [==============================] - 1s 8ms/step - loss: 0.8942 - accuracy: 0.6446 - val_loss: 0.5152 - val_accuracy: 0.8382\n",
      "Epoch 11/1000\n",
      "59/66 [=========================>....] - ETA: 0s - loss: 0.8636 - accuracy: 0.6565\n",
      "Epoch 11: saving model to model/keypoint_classifier/keypoint_classifier.hdf5\n",
      "66/66 [==============================] - 1s 8ms/step - loss: 0.8576 - accuracy: 0.6578 - val_loss: 0.4860 - val_accuracy: 0.8325\n",
      "Epoch 12/1000\n",
      "59/66 [=========================>....] - ETA: 0s - loss: 0.8211 - accuracy: 0.6715\n",
      "Epoch 12: saving model to model/keypoint_classifier/keypoint_classifier.hdf5\n",
      "66/66 [==============================] - 1s 8ms/step - loss: 0.8195 - accuracy: 0.6715 - val_loss: 0.4608 - val_accuracy: 0.8603\n",
      "Epoch 13/1000\n",
      "61/66 [==========================>...] - ETA: 0s - loss: 0.8020 - accuracy: 0.6739\n",
      "Epoch 13: saving model to model/keypoint_classifier/keypoint_classifier.hdf5\n",
      "66/66 [==============================] - 1s 10ms/step - loss: 0.8017 - accuracy: 0.6740 - val_loss: 0.4402 - val_accuracy: 0.8642\n",
      "Epoch 14/1000\n",
      "58/66 [=========================>....] - ETA: 0s - loss: 0.7715 - accuracy: 0.6934\n",
      "Epoch 14: saving model to model/keypoint_classifier/keypoint_classifier.hdf5\n",
      "66/66 [==============================] - 1s 8ms/step - loss: 0.7661 - accuracy: 0.6942 - val_loss: 0.4230 - val_accuracy: 0.8450\n",
      "Epoch 15/1000\n",
      "60/66 [==========================>...] - ETA: 0s - loss: 0.7559 - accuracy: 0.6896\n",
      "Epoch 15: saving model to model/keypoint_classifier/keypoint_classifier.hdf5\n",
      "66/66 [==============================] - 0s 7ms/step - loss: 0.7543 - accuracy: 0.6909 - val_loss: 0.4032 - val_accuracy: 0.8453\n",
      "Epoch 16/1000\n",
      "66/66 [==============================] - ETA: 0s - loss: 0.7281 - accuracy: 0.7019\n",
      "Epoch 16: saving model to model/keypoint_classifier/keypoint_classifier.hdf5\n",
      "66/66 [==============================] - 0s 7ms/step - loss: 0.7281 - accuracy: 0.7019 - val_loss: 0.3835 - val_accuracy: 0.9059\n",
      "Epoch 17/1000\n",
      "57/66 [========================>.....] - ETA: 0s - loss: 0.7121 - accuracy: 0.7127\n",
      "Epoch 17: saving model to model/keypoint_classifier/keypoint_classifier.hdf5\n",
      "66/66 [==============================] - 1s 8ms/step - loss: 0.7089 - accuracy: 0.7144 - val_loss: 0.3737 - val_accuracy: 0.9173\n",
      "Epoch 18/1000\n",
      "64/66 [============================>.] - ETA: 0s - loss: 0.6968 - accuracy: 0.7188\n",
      "Epoch 18: saving model to model/keypoint_classifier/keypoint_classifier.hdf5\n",
      "66/66 [==============================] - 1s 8ms/step - loss: 0.6977 - accuracy: 0.7180 - val_loss: 0.3586 - val_accuracy: 0.9319\n",
      "Epoch 19/1000\n",
      "64/66 [============================>.] - ETA: 0s - loss: 0.6688 - accuracy: 0.7375\n",
      "Epoch 19: saving model to model/keypoint_classifier/keypoint_classifier.hdf5\n",
      "66/66 [==============================] - 0s 7ms/step - loss: 0.6700 - accuracy: 0.7365 - val_loss: 0.3281 - val_accuracy: 0.9269\n",
      "Epoch 20/1000\n",
      "62/66 [===========================>..] - ETA: 0s - loss: 0.6622 - accuracy: 0.7436\n",
      "Epoch 20: saving model to model/keypoint_classifier/keypoint_classifier.hdf5\n",
      "66/66 [==============================] - 1s 8ms/step - loss: 0.6610 - accuracy: 0.7443 - val_loss: 0.3295 - val_accuracy: 0.9433\n",
      "Epoch 21/1000\n",
      "55/66 [========================>.....] - ETA: 0s - loss: 0.6726 - accuracy: 0.7325\n",
      "Epoch 21: saving model to model/keypoint_classifier/keypoint_classifier.hdf5\n",
      "66/66 [==============================] - 1s 8ms/step - loss: 0.6685 - accuracy: 0.7338 - val_loss: 0.3158 - val_accuracy: 0.9444\n",
      "Epoch 22/1000\n",
      "60/66 [==========================>...] - ETA: 0s - loss: 0.6427 - accuracy: 0.7570\n",
      "Epoch 22: saving model to model/keypoint_classifier/keypoint_classifier.hdf5\n",
      "66/66 [==============================] - 1s 8ms/step - loss: 0.6381 - accuracy: 0.7595 - val_loss: 0.2944 - val_accuracy: 0.9505\n",
      "Epoch 23/1000\n",
      "58/66 [=========================>....] - ETA: 0s - loss: 0.6226 - accuracy: 0.7600\n",
      "Epoch 23: saving model to model/keypoint_classifier/keypoint_classifier.hdf5\n",
      "66/66 [==============================] - 1s 10ms/step - loss: 0.6202 - accuracy: 0.7608 - val_loss: 0.2867 - val_accuracy: 0.9558\n",
      "Epoch 24/1000\n",
      "61/66 [==========================>...] - ETA: 0s - loss: 0.6117 - accuracy: 0.7692\n",
      "Epoch 24: saving model to model/keypoint_classifier/keypoint_classifier.hdf5\n",
      "66/66 [==============================] - 1s 10ms/step - loss: 0.6122 - accuracy: 0.7689 - val_loss: 0.2745 - val_accuracy: 0.9551\n",
      "Epoch 25/1000\n",
      "58/66 [=========================>....] - ETA: 0s - loss: 0.6020 - accuracy: 0.7721\n",
      "Epoch 25: saving model to model/keypoint_classifier/keypoint_classifier.hdf5\n",
      "66/66 [==============================] - 1s 9ms/step - loss: 0.6022 - accuracy: 0.7712 - val_loss: 0.2628 - val_accuracy: 0.9487\n",
      "Epoch 26/1000\n",
      "62/66 [===========================>..] - ETA: 0s - loss: 0.6058 - accuracy: 0.7678\n",
      "Epoch 26: saving model to model/keypoint_classifier/keypoint_classifier.hdf5\n",
      "66/66 [==============================] - 0s 7ms/step - loss: 0.6086 - accuracy: 0.7672 - val_loss: 0.2551 - val_accuracy: 0.9597\n",
      "Epoch 27/1000\n",
      "63/66 [===========================>..] - ETA: 0s - loss: 0.5828 - accuracy: 0.7794\n",
      "Epoch 27: saving model to model/keypoint_classifier/keypoint_classifier.hdf5\n",
      "66/66 [==============================] - 0s 7ms/step - loss: 0.5814 - accuracy: 0.7812 - val_loss: 0.2476 - val_accuracy: 0.9579\n",
      "Epoch 28/1000\n",
      "59/66 [=========================>....] - ETA: 0s - loss: 0.5961 - accuracy: 0.7764\n",
      "Epoch 28: saving model to model/keypoint_classifier/keypoint_classifier.hdf5\n",
      "66/66 [==============================] - 0s 7ms/step - loss: 0.5934 - accuracy: 0.7757 - val_loss: 0.2371 - val_accuracy: 0.9579\n",
      "Epoch 29/1000\n",
      "56/66 [========================>.....] - ETA: 0s - loss: 0.5746 - accuracy: 0.7817\n",
      "Epoch 29: saving model to model/keypoint_classifier/keypoint_classifier.hdf5\n",
      "66/66 [==============================] - 0s 7ms/step - loss: 0.5788 - accuracy: 0.7815 - val_loss: 0.2237 - val_accuracy: 0.9644\n",
      "Epoch 30/1000\n",
      "61/66 [==========================>...] - ETA: 0s - loss: 0.5675 - accuracy: 0.7851\n",
      "Epoch 30: saving model to model/keypoint_classifier/keypoint_classifier.hdf5\n",
      "66/66 [==============================] - 0s 7ms/step - loss: 0.5656 - accuracy: 0.7849 - val_loss: 0.2176 - val_accuracy: 0.9658\n",
      "Epoch 31/1000\n",
      "65/66 [============================>.] - ETA: 0s - loss: 0.5593 - accuracy: 0.7904\n",
      "Epoch 31: saving model to model/keypoint_classifier/keypoint_classifier.hdf5\n",
      "66/66 [==============================] - 0s 7ms/step - loss: 0.5605 - accuracy: 0.7893 - val_loss: 0.2091 - val_accuracy: 0.9661\n",
      "Epoch 32/1000\n",
      "64/66 [============================>.] - ETA: 0s - loss: 0.5464 - accuracy: 0.7942\n",
      "Epoch 32: saving model to model/keypoint_classifier/keypoint_classifier.hdf5\n",
      "66/66 [==============================] - 1s 8ms/step - loss: 0.5455 - accuracy: 0.7943 - val_loss: 0.2037 - val_accuracy: 0.9672\n",
      "Epoch 33/1000\n",
      "63/66 [===========================>..] - ETA: 0s - loss: 0.5355 - accuracy: 0.7976\n",
      "Epoch 33: saving model to model/keypoint_classifier/keypoint_classifier.hdf5\n",
      "66/66 [==============================] - 1s 8ms/step - loss: 0.5352 - accuracy: 0.7974 - val_loss: 0.1971 - val_accuracy: 0.9658\n",
      "Epoch 34/1000\n",
      "62/66 [===========================>..] - ETA: 0s - loss: 0.5226 - accuracy: 0.8018\n",
      "Epoch 34: saving model to model/keypoint_classifier/keypoint_classifier.hdf5\n",
      "66/66 [==============================] - 0s 7ms/step - loss: 0.5242 - accuracy: 0.8006 - val_loss: 0.1882 - val_accuracy: 0.9683\n",
      "Epoch 35/1000\n",
      "60/66 [==========================>...] - ETA: 0s - loss: 0.5105 - accuracy: 0.8068\n",
      "Epoch 35: saving model to model/keypoint_classifier/keypoint_classifier.hdf5\n",
      "66/66 [==============================] - 0s 7ms/step - loss: 0.5176 - accuracy: 0.8049 - val_loss: 0.1830 - val_accuracy: 0.9694\n",
      "Epoch 36/1000\n",
      "54/66 [=======================>......] - ETA: 0s - loss: 0.5285 - accuracy: 0.8070\n",
      "Epoch 36: saving model to model/keypoint_classifier/keypoint_classifier.hdf5\n",
      "66/66 [==============================] - 0s 7ms/step - loss: 0.5264 - accuracy: 0.8067 - val_loss: 0.1773 - val_accuracy: 0.9718\n",
      "Epoch 37/1000\n",
      "62/66 [===========================>..] - ETA: 0s - loss: 0.5279 - accuracy: 0.8019\n",
      "Epoch 37: saving model to model/keypoint_classifier/keypoint_classifier.hdf5\n",
      "66/66 [==============================] - 0s 8ms/step - loss: 0.5280 - accuracy: 0.8018 - val_loss: 0.1748 - val_accuracy: 0.9736\n",
      "Epoch 38/1000\n",
      "65/66 [============================>.] - ETA: 0s - loss: 0.5110 - accuracy: 0.8111\n",
      "Epoch 38: saving model to model/keypoint_classifier/keypoint_classifier.hdf5\n",
      "66/66 [==============================] - 0s 7ms/step - loss: 0.5099 - accuracy: 0.8112 - val_loss: 0.1634 - val_accuracy: 0.9758\n",
      "Epoch 39/1000\n",
      "63/66 [===========================>..] - ETA: 0s - loss: 0.4955 - accuracy: 0.8110\n",
      "Epoch 39: saving model to model/keypoint_classifier/keypoint_classifier.hdf5\n",
      "66/66 [==============================] - 0s 8ms/step - loss: 0.4948 - accuracy: 0.8115 - val_loss: 0.1628 - val_accuracy: 0.9733\n",
      "Epoch 40/1000\n",
      "63/66 [===========================>..] - ETA: 0s - loss: 0.4950 - accuracy: 0.8150\n",
      "Epoch 40: saving model to model/keypoint_classifier/keypoint_classifier.hdf5\n",
      "66/66 [==============================] - 1s 7ms/step - loss: 0.4962 - accuracy: 0.8144 - val_loss: 0.1659 - val_accuracy: 0.9779\n",
      "Epoch 41/1000\n",
      "61/66 [==========================>...] - ETA: 0s - loss: 0.4812 - accuracy: 0.8167\n",
      "Epoch 41: saving model to model/keypoint_classifier/keypoint_classifier.hdf5\n",
      "66/66 [==============================] - 1s 8ms/step - loss: 0.4834 - accuracy: 0.8173 - val_loss: 0.1549 - val_accuracy: 0.9761\n",
      "Epoch 42/1000\n",
      "62/66 [===========================>..] - ETA: 0s - loss: 0.4931 - accuracy: 0.8178\n",
      "Epoch 42: saving model to model/keypoint_classifier/keypoint_classifier.hdf5\n",
      "66/66 [==============================] - 0s 7ms/step - loss: 0.4970 - accuracy: 0.8165 - val_loss: 0.1506 - val_accuracy: 0.9743\n",
      "Epoch 43/1000\n",
      "64/66 [============================>.] - ETA: 0s - loss: 0.4665 - accuracy: 0.8311\n",
      "Epoch 43: saving model to model/keypoint_classifier/keypoint_classifier.hdf5\n",
      "66/66 [==============================] - 0s 7ms/step - loss: 0.4659 - accuracy: 0.8304 - val_loss: 0.1429 - val_accuracy: 0.9793\n",
      "Epoch 44/1000\n",
      "65/66 [============================>.] - ETA: 0s - loss: 0.4886 - accuracy: 0.8183\n",
      "Epoch 44: saving model to model/keypoint_classifier/keypoint_classifier.hdf5\n",
      "66/66 [==============================] - 0s 7ms/step - loss: 0.4895 - accuracy: 0.8178 - val_loss: 0.1470 - val_accuracy: 0.9800\n",
      "Epoch 45/1000\n",
      "60/66 [==========================>...] - ETA: 0s - loss: 0.4680 - accuracy: 0.8301\n",
      "Epoch 45: saving model to model/keypoint_classifier/keypoint_classifier.hdf5\n",
      "66/66 [==============================] - 1s 8ms/step - loss: 0.4707 - accuracy: 0.8285 - val_loss: 0.1441 - val_accuracy: 0.9783\n",
      "Epoch 46/1000\n",
      "66/66 [==============================] - ETA: 0s - loss: 0.4737 - accuracy: 0.8278\n",
      "Epoch 46: saving model to model/keypoint_classifier/keypoint_classifier.hdf5\n",
      "66/66 [==============================] - 0s 7ms/step - loss: 0.4737 - accuracy: 0.8278 - val_loss: 0.1422 - val_accuracy: 0.9790\n",
      "Epoch 47/1000\n",
      "61/66 [==========================>...] - ETA: 0s - loss: 0.4771 - accuracy: 0.8244\n",
      "Epoch 47: saving model to model/keypoint_classifier/keypoint_classifier.hdf5\n",
      "66/66 [==============================] - 1s 8ms/step - loss: 0.4775 - accuracy: 0.8232 - val_loss: 0.1378 - val_accuracy: 0.9775\n",
      "Epoch 48/1000\n",
      "64/66 [============================>.] - ETA: 0s - loss: 0.4633 - accuracy: 0.8317\n",
      "Epoch 48: saving model to model/keypoint_classifier/keypoint_classifier.hdf5\n",
      "66/66 [==============================] - 0s 7ms/step - loss: 0.4621 - accuracy: 0.8315 - val_loss: 0.1358 - val_accuracy: 0.9854\n",
      "Epoch 49/1000\n",
      "64/66 [============================>.] - ETA: 0s - loss: 0.4544 - accuracy: 0.8328\n",
      "Epoch 49: saving model to model/keypoint_classifier/keypoint_classifier.hdf5\n",
      "66/66 [==============================] - 1s 8ms/step - loss: 0.4541 - accuracy: 0.8333 - val_loss: 0.1292 - val_accuracy: 0.9808\n",
      "Epoch 50/1000\n",
      "55/66 [========================>.....] - ETA: 0s - loss: 0.4565 - accuracy: 0.8259\n",
      "Epoch 50: saving model to model/keypoint_classifier/keypoint_classifier.hdf5\n",
      "66/66 [==============================] - 0s 7ms/step - loss: 0.4570 - accuracy: 0.8253 - val_loss: 0.1322 - val_accuracy: 0.9822\n",
      "Epoch 51/1000\n",
      "60/66 [==========================>...] - ETA: 0s - loss: 0.4779 - accuracy: 0.8277\n",
      "Epoch 51: saving model to model/keypoint_classifier/keypoint_classifier.hdf5\n",
      "66/66 [==============================] - 1s 8ms/step - loss: 0.4736 - accuracy: 0.8288 - val_loss: 0.1324 - val_accuracy: 0.9882\n",
      "Epoch 52/1000\n",
      "61/66 [==========================>...] - ETA: 0s - loss: 0.4541 - accuracy: 0.8309\n",
      "Epoch 52: saving model to model/keypoint_classifier/keypoint_classifier.hdf5\n",
      "66/66 [==============================] - 1s 8ms/step - loss: 0.4549 - accuracy: 0.8317 - val_loss: 0.1274 - val_accuracy: 0.9850\n",
      "Epoch 53/1000\n",
      "59/66 [=========================>....] - ETA: 0s - loss: 0.4453 - accuracy: 0.8381\n",
      "Epoch 53: saving model to model/keypoint_classifier/keypoint_classifier.hdf5\n",
      "66/66 [==============================] - 1s 9ms/step - loss: 0.4437 - accuracy: 0.8375 - val_loss: 0.1251 - val_accuracy: 0.9843\n",
      "Epoch 54/1000\n",
      "59/66 [=========================>....] - ETA: 0s - loss: 0.4382 - accuracy: 0.8434\n",
      "Epoch 54: saving model to model/keypoint_classifier/keypoint_classifier.hdf5\n",
      "66/66 [==============================] - 0s 7ms/step - loss: 0.4408 - accuracy: 0.8415 - val_loss: 0.1123 - val_accuracy: 0.9893\n",
      "Epoch 55/1000\n",
      "56/66 [========================>.....] - ETA: 0s - loss: 0.4520 - accuracy: 0.8412\n",
      "Epoch 55: saving model to model/keypoint_classifier/keypoint_classifier.hdf5\n",
      "66/66 [==============================] - 0s 7ms/step - loss: 0.4480 - accuracy: 0.8427 - val_loss: 0.1229 - val_accuracy: 0.9879\n",
      "Epoch 56/1000\n",
      "61/66 [==========================>...] - ETA: 0s - loss: 0.4493 - accuracy: 0.8330\n",
      "Epoch 56: saving model to model/keypoint_classifier/keypoint_classifier.hdf5\n",
      "66/66 [==============================] - 0s 7ms/step - loss: 0.4502 - accuracy: 0.8328 - val_loss: 0.1159 - val_accuracy: 0.9918\n",
      "Epoch 57/1000\n",
      "58/66 [=========================>....] - ETA: 0s - loss: 0.4373 - accuracy: 0.8417\n",
      "Epoch 57: saving model to model/keypoint_classifier/keypoint_classifier.hdf5\n",
      "66/66 [==============================] - 0s 7ms/step - loss: 0.4419 - accuracy: 0.8420 - val_loss: 0.1117 - val_accuracy: 0.9861\n",
      "Epoch 58/1000\n",
      "64/66 [============================>.] - ETA: 0s - loss: 0.4293 - accuracy: 0.8455\n",
      "Epoch 58: saving model to model/keypoint_classifier/keypoint_classifier.hdf5\n",
      "66/66 [==============================] - 0s 7ms/step - loss: 0.4269 - accuracy: 0.8460 - val_loss: 0.1115 - val_accuracy: 0.9939\n",
      "Epoch 59/1000\n",
      "62/66 [===========================>..] - ETA: 0s - loss: 0.4280 - accuracy: 0.8474\n",
      "Epoch 59: saving model to model/keypoint_classifier/keypoint_classifier.hdf5\n",
      "66/66 [==============================] - 0s 7ms/step - loss: 0.4277 - accuracy: 0.8464 - val_loss: 0.1139 - val_accuracy: 0.9925\n",
      "Epoch 60/1000\n",
      "63/66 [===========================>..] - ETA: 0s - loss: 0.4297 - accuracy: 0.8466\n",
      "Epoch 60: saving model to model/keypoint_classifier/keypoint_classifier.hdf5\n",
      "66/66 [==============================] - 1s 8ms/step - loss: 0.4327 - accuracy: 0.8455 - val_loss: 0.1116 - val_accuracy: 0.9914\n",
      "Epoch 61/1000\n",
      "64/66 [============================>.] - ETA: 0s - loss: 0.4367 - accuracy: 0.8417\n",
      "Epoch 61: saving model to model/keypoint_classifier/keypoint_classifier.hdf5\n",
      "66/66 [==============================] - 1s 8ms/step - loss: 0.4379 - accuracy: 0.8408 - val_loss: 0.1113 - val_accuracy: 0.9950\n",
      "Epoch 62/1000\n",
      "65/66 [============================>.] - ETA: 0s - loss: 0.4162 - accuracy: 0.8532\n",
      "Epoch 62: saving model to model/keypoint_classifier/keypoint_classifier.hdf5\n",
      "66/66 [==============================] - 1s 8ms/step - loss: 0.4164 - accuracy: 0.8531 - val_loss: 0.1110 - val_accuracy: 0.9922\n",
      "Epoch 63/1000\n",
      "60/66 [==========================>...] - ETA: 0s - loss: 0.4244 - accuracy: 0.8499\n",
      "Epoch 63: saving model to model/keypoint_classifier/keypoint_classifier.hdf5\n",
      "66/66 [==============================] - 1s 8ms/step - loss: 0.4280 - accuracy: 0.8489 - val_loss: 0.1077 - val_accuracy: 0.9954\n",
      "Epoch 64/1000\n",
      "60/66 [==========================>...] - ETA: 0s - loss: 0.4240 - accuracy: 0.8480\n",
      "Epoch 64: saving model to model/keypoint_classifier/keypoint_classifier.hdf5\n",
      "66/66 [==============================] - 0s 7ms/step - loss: 0.4244 - accuracy: 0.8481 - val_loss: 0.1052 - val_accuracy: 0.9957\n",
      "Epoch 65/1000\n",
      "66/66 [==============================] - ETA: 0s - loss: 0.4154 - accuracy: 0.8506\n",
      "Epoch 65: saving model to model/keypoint_classifier/keypoint_classifier.hdf5\n",
      "66/66 [==============================] - 0s 7ms/step - loss: 0.4154 - accuracy: 0.8506 - val_loss: 0.0998 - val_accuracy: 0.9950\n",
      "Epoch 66/1000\n",
      "62/66 [===========================>..] - ETA: 0s - loss: 0.4003 - accuracy: 0.8553\n",
      "Epoch 66: saving model to model/keypoint_classifier/keypoint_classifier.hdf5\n",
      "66/66 [==============================] - 0s 8ms/step - loss: 0.4061 - accuracy: 0.8541 - val_loss: 0.1070 - val_accuracy: 0.9886\n",
      "Epoch 67/1000\n",
      "61/66 [==========================>...] - ETA: 0s - loss: 0.4184 - accuracy: 0.8459\n",
      "Epoch 67: saving model to model/keypoint_classifier/keypoint_classifier.hdf5\n",
      "66/66 [==============================] - 1s 8ms/step - loss: 0.4189 - accuracy: 0.8464 - val_loss: 0.0990 - val_accuracy: 0.9968\n",
      "Epoch 68/1000\n",
      "59/66 [=========================>....] - ETA: 0s - loss: 0.3980 - accuracy: 0.8618\n",
      "Epoch 68: saving model to model/keypoint_classifier/keypoint_classifier.hdf5\n",
      "66/66 [==============================] - 1s 8ms/step - loss: 0.3976 - accuracy: 0.8615 - val_loss: 0.0985 - val_accuracy: 0.9922\n",
      "Epoch 69/1000\n",
      "61/66 [==========================>...] - ETA: 0s - loss: 0.4101 - accuracy: 0.8528\n",
      "Epoch 69: saving model to model/keypoint_classifier/keypoint_classifier.hdf5\n",
      "66/66 [==============================] - 0s 7ms/step - loss: 0.4088 - accuracy: 0.8537 - val_loss: 0.0994 - val_accuracy: 0.9971\n",
      "Epoch 70/1000\n",
      "61/66 [==========================>...] - ETA: 0s - loss: 0.4107 - accuracy: 0.8503\n",
      "Epoch 70: saving model to model/keypoint_classifier/keypoint_classifier.hdf5\n",
      "66/66 [==============================] - 0s 8ms/step - loss: 0.4114 - accuracy: 0.8517 - val_loss: 0.0989 - val_accuracy: 0.9975\n",
      "Epoch 71/1000\n",
      "65/66 [============================>.] - ETA: 0s - loss: 0.4040 - accuracy: 0.8541\n",
      "Epoch 71: saving model to model/keypoint_classifier/keypoint_classifier.hdf5\n",
      "66/66 [==============================] - 0s 7ms/step - loss: 0.4030 - accuracy: 0.8546 - val_loss: 0.0983 - val_accuracy: 0.9961\n",
      "Epoch 72/1000\n",
      "62/66 [===========================>..] - ETA: 0s - loss: 0.4137 - accuracy: 0.8482\n",
      "Epoch 72: saving model to model/keypoint_classifier/keypoint_classifier.hdf5\n",
      "66/66 [==============================] - 1s 7ms/step - loss: 0.4102 - accuracy: 0.8500 - val_loss: 0.1038 - val_accuracy: 0.9957\n",
      "Epoch 73/1000\n",
      "64/66 [============================>.] - ETA: 0s - loss: 0.3980 - accuracy: 0.8579\n",
      "Epoch 73: saving model to model/keypoint_classifier/keypoint_classifier.hdf5\n",
      "66/66 [==============================] - 1s 8ms/step - loss: 0.3995 - accuracy: 0.8573 - val_loss: 0.1022 - val_accuracy: 0.9961\n",
      "Epoch 74/1000\n",
      "57/66 [========================>.....] - ETA: 0s - loss: 0.3985 - accuracy: 0.8643\n",
      "Epoch 74: saving model to model/keypoint_classifier/keypoint_classifier.hdf5\n",
      "66/66 [==============================] - 1s 9ms/step - loss: 0.4015 - accuracy: 0.8609 - val_loss: 0.0956 - val_accuracy: 0.9971\n",
      "Epoch 75/1000\n",
      "57/66 [========================>.....] - ETA: 0s - loss: 0.3953 - accuracy: 0.8618\n",
      "Epoch 75: saving model to model/keypoint_classifier/keypoint_classifier.hdf5\n",
      "66/66 [==============================] - 0s 7ms/step - loss: 0.3959 - accuracy: 0.8630 - val_loss: 0.0932 - val_accuracy: 0.9975\n",
      "Epoch 76/1000\n",
      "63/66 [===========================>..] - ETA: 0s - loss: 0.4005 - accuracy: 0.8611\n",
      "Epoch 76: saving model to model/keypoint_classifier/keypoint_classifier.hdf5\n",
      "66/66 [==============================] - 1s 8ms/step - loss: 0.3996 - accuracy: 0.8619 - val_loss: 0.0958 - val_accuracy: 0.9971\n",
      "Epoch 77/1000\n",
      "62/66 [===========================>..] - ETA: 0s - loss: 0.3894 - accuracy: 0.8596\n",
      "Epoch 77: saving model to model/keypoint_classifier/keypoint_classifier.hdf5\n",
      "66/66 [==============================] - 0s 8ms/step - loss: 0.3869 - accuracy: 0.8605 - val_loss: 0.0872 - val_accuracy: 0.9957\n",
      "Epoch 78/1000\n",
      "65/66 [============================>.] - ETA: 0s - loss: 0.3961 - accuracy: 0.8581\n",
      "Epoch 78: saving model to model/keypoint_classifier/keypoint_classifier.hdf5\n",
      "66/66 [==============================] - 1s 8ms/step - loss: 0.3964 - accuracy: 0.8580 - val_loss: 0.0888 - val_accuracy: 0.9979\n",
      "Epoch 79/1000\n",
      "66/66 [==============================] - ETA: 0s - loss: 0.3873 - accuracy: 0.8670\n",
      "Epoch 79: saving model to model/keypoint_classifier/keypoint_classifier.hdf5\n",
      "66/66 [==============================] - 1s 8ms/step - loss: 0.3873 - accuracy: 0.8670 - val_loss: 0.0909 - val_accuracy: 0.9979\n",
      "Epoch 80/1000\n",
      "61/66 [==========================>...] - ETA: 0s - loss: 0.3934 - accuracy: 0.8623\n",
      "Epoch 80: saving model to model/keypoint_classifier/keypoint_classifier.hdf5\n",
      "66/66 [==============================] - 0s 7ms/step - loss: 0.3903 - accuracy: 0.8635 - val_loss: 0.0869 - val_accuracy: 0.9975\n",
      "Epoch 81/1000\n",
      "55/66 [========================>.....] - ETA: 0s - loss: 0.3900 - accuracy: 0.8632\n",
      "Epoch 81: saving model to model/keypoint_classifier/keypoint_classifier.hdf5\n",
      "66/66 [==============================] - 0s 7ms/step - loss: 0.3897 - accuracy: 0.8632 - val_loss: 0.0934 - val_accuracy: 0.9964\n",
      "Epoch 82/1000\n",
      "61/66 [==========================>...] - ETA: 0s - loss: 0.3874 - accuracy: 0.8701\n",
      "Epoch 82: saving model to model/keypoint_classifier/keypoint_classifier.hdf5\n",
      "66/66 [==============================] - 1s 8ms/step - loss: 0.3859 - accuracy: 0.8707 - val_loss: 0.0873 - val_accuracy: 0.9975\n",
      "Epoch 83/1000\n",
      "60/66 [==========================>...] - ETA: 0s - loss: 0.3941 - accuracy: 0.8648\n",
      "Epoch 83: saving model to model/keypoint_classifier/keypoint_classifier.hdf5\n",
      "66/66 [==============================] - 1s 8ms/step - loss: 0.3935 - accuracy: 0.8641 - val_loss: 0.0951 - val_accuracy: 0.9961\n",
      "Epoch 84/1000\n",
      "59/66 [=========================>....] - ETA: 0s - loss: 0.3856 - accuracy: 0.8623\n",
      "Epoch 84: saving model to model/keypoint_classifier/keypoint_classifier.hdf5\n",
      "66/66 [==============================] - 0s 8ms/step - loss: 0.3843 - accuracy: 0.8629 - val_loss: 0.0892 - val_accuracy: 0.9975\n",
      "Epoch 85/1000\n",
      "64/66 [============================>.] - ETA: 0s - loss: 0.3773 - accuracy: 0.8682\n",
      "Epoch 85: saving model to model/keypoint_classifier/keypoint_classifier.hdf5\n",
      "66/66 [==============================] - 1s 8ms/step - loss: 0.3765 - accuracy: 0.8685 - val_loss: 0.0845 - val_accuracy: 0.9975\n",
      "Epoch 86/1000\n",
      "65/66 [============================>.] - ETA: 0s - loss: 0.3810 - accuracy: 0.8674\n",
      "Epoch 86: saving model to model/keypoint_classifier/keypoint_classifier.hdf5\n",
      "66/66 [==============================] - 0s 7ms/step - loss: 0.3812 - accuracy: 0.8668 - val_loss: 0.0933 - val_accuracy: 0.9979\n",
      "Epoch 87/1000\n",
      "65/66 [============================>.] - ETA: 0s - loss: 0.3799 - accuracy: 0.8672\n",
      "Epoch 87: saving model to model/keypoint_classifier/keypoint_classifier.hdf5\n",
      "66/66 [==============================] - 0s 7ms/step - loss: 0.3787 - accuracy: 0.8674 - val_loss: 0.0899 - val_accuracy: 0.9964\n",
      "Epoch 88/1000\n",
      "56/66 [========================>.....] - ETA: 0s - loss: 0.3702 - accuracy: 0.8675\n",
      "Epoch 88: saving model to model/keypoint_classifier/keypoint_classifier.hdf5\n",
      "66/66 [==============================] - 1s 8ms/step - loss: 0.3704 - accuracy: 0.8691 - val_loss: 0.0888 - val_accuracy: 0.9957\n",
      "Epoch 89/1000\n",
      "65/66 [============================>.] - ETA: 0s - loss: 0.3767 - accuracy: 0.8727\n",
      "Epoch 89: saving model to model/keypoint_classifier/keypoint_classifier.hdf5\n",
      "66/66 [==============================] - 1s 8ms/step - loss: 0.3757 - accuracy: 0.8732 - val_loss: 0.0840 - val_accuracy: 0.9979\n",
      "Epoch 90/1000\n",
      "63/66 [===========================>..] - ETA: 0s - loss: 0.3788 - accuracy: 0.8717\n",
      "Epoch 90: saving model to model/keypoint_classifier/keypoint_classifier.hdf5\n",
      "66/66 [==============================] - 0s 7ms/step - loss: 0.3786 - accuracy: 0.8716 - val_loss: 0.0825 - val_accuracy: 0.9979\n",
      "Epoch 91/1000\n",
      "62/66 [===========================>..] - ETA: 0s - loss: 0.3679 - accuracy: 0.8746\n",
      "Epoch 91: saving model to model/keypoint_classifier/keypoint_classifier.hdf5\n",
      "66/66 [==============================] - 0s 7ms/step - loss: 0.3675 - accuracy: 0.8761 - val_loss: 0.0916 - val_accuracy: 0.9979\n",
      "Epoch 92/1000\n",
      "63/66 [===========================>..] - ETA: 0s - loss: 0.3745 - accuracy: 0.8694\n",
      "Epoch 92: saving model to model/keypoint_classifier/keypoint_classifier.hdf5\n",
      "66/66 [==============================] - 1s 8ms/step - loss: 0.3715 - accuracy: 0.8705 - val_loss: 0.0897 - val_accuracy: 0.9979\n",
      "Epoch 93/1000\n",
      "59/66 [=========================>....] - ETA: 0s - loss: 0.3928 - accuracy: 0.8653\n",
      "Epoch 93: saving model to model/keypoint_classifier/keypoint_classifier.hdf5\n",
      "66/66 [==============================] - 1s 8ms/step - loss: 0.3883 - accuracy: 0.8666 - val_loss: 0.0936 - val_accuracy: 0.9961\n",
      "Epoch 94/1000\n",
      "63/66 [===========================>..] - ETA: 0s - loss: 0.3692 - accuracy: 0.8739\n",
      "Epoch 94: saving model to model/keypoint_classifier/keypoint_classifier.hdf5\n",
      "66/66 [==============================] - 1s 10ms/step - loss: 0.3688 - accuracy: 0.8740 - val_loss: 0.0796 - val_accuracy: 0.9979\n",
      "Epoch 95/1000\n",
      "62/66 [===========================>..] - ETA: 0s - loss: 0.3782 - accuracy: 0.8747\n",
      "Epoch 95: saving model to model/keypoint_classifier/keypoint_classifier.hdf5\n",
      "66/66 [==============================] - 1s 10ms/step - loss: 0.3814 - accuracy: 0.8736 - val_loss: 0.0897 - val_accuracy: 0.9982\n",
      "Epoch 96/1000\n",
      "66/66 [==============================] - ETA: 0s - loss: 0.3678 - accuracy: 0.8742\n",
      "Epoch 96: saving model to model/keypoint_classifier/keypoint_classifier.hdf5\n",
      "66/66 [==============================] - 1s 9ms/step - loss: 0.3678 - accuracy: 0.8742 - val_loss: 0.0821 - val_accuracy: 0.9982\n",
      "Epoch 97/1000\n",
      "60/66 [==========================>...] - ETA: 0s - loss: 0.3816 - accuracy: 0.8659\n",
      "Epoch 97: saving model to model/keypoint_classifier/keypoint_classifier.hdf5\n",
      "66/66 [==============================] - 1s 8ms/step - loss: 0.3797 - accuracy: 0.8668 - val_loss: 0.0873 - val_accuracy: 0.9979\n",
      "Epoch 98/1000\n",
      "57/66 [========================>.....] - ETA: 0s - loss: 0.3655 - accuracy: 0.8720\n",
      "Epoch 98: saving model to model/keypoint_classifier/keypoint_classifier.hdf5\n",
      "66/66 [==============================] - 1s 9ms/step - loss: 0.3638 - accuracy: 0.8725 - val_loss: 0.0824 - val_accuracy: 0.9975\n",
      "Epoch 99/1000\n",
      "66/66 [==============================] - ETA: 0s - loss: 0.3625 - accuracy: 0.8767\n",
      "Epoch 99: saving model to model/keypoint_classifier/keypoint_classifier.hdf5\n",
      "66/66 [==============================] - 1s 9ms/step - loss: 0.3625 - accuracy: 0.8767 - val_loss: 0.0819 - val_accuracy: 0.9968\n",
      "Epoch 100/1000\n",
      "57/66 [========================>.....] - ETA: 0s - loss: 0.3590 - accuracy: 0.8734\n",
      "Epoch 100: saving model to model/keypoint_classifier/keypoint_classifier.hdf5\n",
      "66/66 [==============================] - 1s 8ms/step - loss: 0.3618 - accuracy: 0.8718 - val_loss: 0.0805 - val_accuracy: 0.9929\n",
      "Epoch 101/1000\n",
      "65/66 [============================>.] - ETA: 0s - loss: 0.3728 - accuracy: 0.8725\n",
      "Epoch 101: saving model to model/keypoint_classifier/keypoint_classifier.hdf5\n",
      "66/66 [==============================] - 1s 8ms/step - loss: 0.3731 - accuracy: 0.8725 - val_loss: 0.0867 - val_accuracy: 0.9950\n",
      "Epoch 102/1000\n",
      "65/66 [============================>.] - ETA: 0s - loss: 0.3664 - accuracy: 0.8760\n",
      "Epoch 102: saving model to model/keypoint_classifier/keypoint_classifier.hdf5\n",
      "66/66 [==============================] - 1s 8ms/step - loss: 0.3675 - accuracy: 0.8755 - val_loss: 0.0850 - val_accuracy: 0.9982\n",
      "Epoch 103/1000\n",
      "60/66 [==========================>...] - ETA: 0s - loss: 0.3674 - accuracy: 0.8801\n",
      "Epoch 103: saving model to model/keypoint_classifier/keypoint_classifier.hdf5\n",
      "66/66 [==============================] - 1s 8ms/step - loss: 0.3654 - accuracy: 0.8813 - val_loss: 0.0833 - val_accuracy: 0.9950\n",
      "Epoch 104/1000\n",
      "60/66 [==========================>...] - ETA: 0s - loss: 0.3469 - accuracy: 0.8806\n",
      "Epoch 104: saving model to model/keypoint_classifier/keypoint_classifier.hdf5\n",
      "66/66 [==============================] - 1s 9ms/step - loss: 0.3468 - accuracy: 0.8799 - val_loss: 0.0783 - val_accuracy: 0.9982\n",
      "Epoch 105/1000\n",
      "58/66 [=========================>....] - ETA: 0s - loss: 0.3472 - accuracy: 0.8825\n",
      "Epoch 105: saving model to model/keypoint_classifier/keypoint_classifier.hdf5\n",
      "66/66 [==============================] - 1s 9ms/step - loss: 0.3552 - accuracy: 0.8790 - val_loss: 0.0824 - val_accuracy: 0.9979\n",
      "Epoch 106/1000\n",
      "63/66 [===========================>..] - ETA: 0s - loss: 0.3564 - accuracy: 0.8760\n",
      "Epoch 106: saving model to model/keypoint_classifier/keypoint_classifier.hdf5\n",
      "66/66 [==============================] - 1s 8ms/step - loss: 0.3582 - accuracy: 0.8742 - val_loss: 0.0855 - val_accuracy: 0.9979\n",
      "Epoch 107/1000\n",
      "62/66 [===========================>..] - ETA: 0s - loss: 0.3521 - accuracy: 0.8797\n",
      "Epoch 107: saving model to model/keypoint_classifier/keypoint_classifier.hdf5\n",
      "66/66 [==============================] - 1s 8ms/step - loss: 0.3559 - accuracy: 0.8782 - val_loss: 0.0845 - val_accuracy: 0.9986\n",
      "Epoch 108/1000\n",
      "66/66 [==============================] - ETA: 0s - loss: 0.3729 - accuracy: 0.8726\n",
      "Epoch 108: saving model to model/keypoint_classifier/keypoint_classifier.hdf5\n",
      "66/66 [==============================] - 1s 10ms/step - loss: 0.3729 - accuracy: 0.8726 - val_loss: 0.0864 - val_accuracy: 0.9982\n",
      "Epoch 109/1000\n",
      "56/66 [========================>.....] - ETA: 0s - loss: 0.3638 - accuracy: 0.8744\n",
      "Epoch 109: saving model to model/keypoint_classifier/keypoint_classifier.hdf5\n",
      "66/66 [==============================] - 1s 8ms/step - loss: 0.3649 - accuracy: 0.8736 - val_loss: 0.0828 - val_accuracy: 0.9964\n",
      "Epoch 110/1000\n",
      "66/66 [==============================] - ETA: 0s - loss: 0.3544 - accuracy: 0.8787\n",
      "Epoch 110: saving model to model/keypoint_classifier/keypoint_classifier.hdf5\n",
      "66/66 [==============================] - 1s 8ms/step - loss: 0.3544 - accuracy: 0.8787 - val_loss: 0.0807 - val_accuracy: 0.9971\n",
      "Epoch 111/1000\n",
      "62/66 [===========================>..] - ETA: 0s - loss: 0.3615 - accuracy: 0.8773\n",
      "Epoch 111: saving model to model/keypoint_classifier/keypoint_classifier.hdf5\n",
      "66/66 [==============================] - 1s 9ms/step - loss: 0.3617 - accuracy: 0.8776 - val_loss: 0.0804 - val_accuracy: 0.9982\n",
      "Epoch 112/1000\n",
      "60/66 [==========================>...] - ETA: 0s - loss: 0.3678 - accuracy: 0.8750\n",
      "Epoch 112: saving model to model/keypoint_classifier/keypoint_classifier.hdf5\n",
      "66/66 [==============================] - 1s 11ms/step - loss: 0.3654 - accuracy: 0.8768 - val_loss: 0.0832 - val_accuracy: 0.9982\n",
      "Epoch 113/1000\n",
      "60/66 [==========================>...] - ETA: 0s - loss: 0.3551 - accuracy: 0.8764\n",
      "Epoch 113: saving model to model/keypoint_classifier/keypoint_classifier.hdf5\n",
      "66/66 [==============================] - 1s 8ms/step - loss: 0.3544 - accuracy: 0.8768 - val_loss: 0.0844 - val_accuracy: 0.9968\n",
      "Epoch 114/1000\n",
      "58/66 [=========================>....] - ETA: 0s - loss: 0.3525 - accuracy: 0.8811\n",
      "Epoch 114: saving model to model/keypoint_classifier/keypoint_classifier.hdf5\n",
      "66/66 [==============================] - 1s 9ms/step - loss: 0.3529 - accuracy: 0.8818 - val_loss: 0.0879 - val_accuracy: 0.9982\n",
      "Epoch 115/1000\n",
      "66/66 [==============================] - ETA: 0s - loss: 0.3357 - accuracy: 0.8843\n",
      "Epoch 115: saving model to model/keypoint_classifier/keypoint_classifier.hdf5\n",
      "66/66 [==============================] - 1s 8ms/step - loss: 0.3357 - accuracy: 0.8843 - val_loss: 0.0815 - val_accuracy: 0.9982\n",
      "Epoch 116/1000\n",
      "59/66 [=========================>....] - ETA: 0s - loss: 0.3473 - accuracy: 0.8798\n",
      "Epoch 116: saving model to model/keypoint_classifier/keypoint_classifier.hdf5\n",
      "66/66 [==============================] - 1s 9ms/step - loss: 0.3482 - accuracy: 0.8794 - val_loss: 0.0805 - val_accuracy: 0.9986\n",
      "Epoch 117/1000\n",
      "63/66 [===========================>..] - ETA: 0s - loss: 0.3501 - accuracy: 0.8777\n",
      "Epoch 117: saving model to model/keypoint_classifier/keypoint_classifier.hdf5\n",
      "66/66 [==============================] - 1s 8ms/step - loss: 0.3502 - accuracy: 0.8786 - val_loss: 0.0863 - val_accuracy: 0.9932\n",
      "Epoch 118/1000\n",
      "59/66 [=========================>....] - ETA: 0s - loss: 0.3381 - accuracy: 0.8859\n",
      "Epoch 118: saving model to model/keypoint_classifier/keypoint_classifier.hdf5\n",
      "66/66 [==============================] - 1s 9ms/step - loss: 0.3401 - accuracy: 0.8864 - val_loss: 0.0790 - val_accuracy: 0.9929\n",
      "Epoch 119/1000\n",
      "60/66 [==========================>...] - ETA: 0s - loss: 0.3594 - accuracy: 0.8766\n",
      "Epoch 119: saving model to model/keypoint_classifier/keypoint_classifier.hdf5\n",
      "66/66 [==============================] - 1s 9ms/step - loss: 0.3573 - accuracy: 0.8769 - val_loss: 0.0843 - val_accuracy: 0.9982\n",
      "Epoch 120/1000\n",
      "61/66 [==========================>...] - ETA: 0s - loss: 0.3481 - accuracy: 0.8828\n",
      "Epoch 120: saving model to model/keypoint_classifier/keypoint_classifier.hdf5\n",
      "66/66 [==============================] - 1s 9ms/step - loss: 0.3492 - accuracy: 0.8817 - val_loss: 0.0778 - val_accuracy: 0.9986\n",
      "Epoch 121/1000\n",
      "65/66 [============================>.] - ETA: 0s - loss: 0.3559 - accuracy: 0.8767\n",
      "Epoch 121: saving model to model/keypoint_classifier/keypoint_classifier.hdf5\n",
      "66/66 [==============================] - 1s 9ms/step - loss: 0.3569 - accuracy: 0.8763 - val_loss: 0.0834 - val_accuracy: 0.9986\n",
      "Epoch 122/1000\n",
      "65/66 [============================>.] - ETA: 0s - loss: 0.3503 - accuracy: 0.8787\n",
      "Epoch 122: saving model to model/keypoint_classifier/keypoint_classifier.hdf5\n",
      "66/66 [==============================] - 1s 8ms/step - loss: 0.3496 - accuracy: 0.8787 - val_loss: 0.0868 - val_accuracy: 0.9982\n",
      "Epoch 123/1000\n",
      "58/66 [=========================>....] - ETA: 0s - loss: 0.3413 - accuracy: 0.8851\n",
      "Epoch 123: saving model to model/keypoint_classifier/keypoint_classifier.hdf5\n",
      "66/66 [==============================] - 1s 8ms/step - loss: 0.3503 - accuracy: 0.8821 - val_loss: 0.0732 - val_accuracy: 0.9986\n",
      "Epoch 124/1000\n",
      "60/66 [==========================>...] - ETA: 0s - loss: 0.3458 - accuracy: 0.8824\n",
      "Epoch 124: saving model to model/keypoint_classifier/keypoint_classifier.hdf5\n",
      "66/66 [==============================] - 1s 9ms/step - loss: 0.3409 - accuracy: 0.8846 - val_loss: 0.0814 - val_accuracy: 0.9936\n",
      "Epoch 125/1000\n",
      "65/66 [============================>.] - ETA: 0s - loss: 0.3404 - accuracy: 0.8835\n",
      "Epoch 125: saving model to model/keypoint_classifier/keypoint_classifier.hdf5\n",
      "66/66 [==============================] - 1s 8ms/step - loss: 0.3400 - accuracy: 0.8836 - val_loss: 0.0822 - val_accuracy: 0.9986\n",
      "Epoch 126/1000\n",
      "64/66 [============================>.] - ETA: 0s - loss: 0.3415 - accuracy: 0.8862\n",
      "Epoch 126: saving model to model/keypoint_classifier/keypoint_classifier.hdf5\n",
      "66/66 [==============================] - 1s 9ms/step - loss: 0.3413 - accuracy: 0.8862 - val_loss: 0.0717 - val_accuracy: 0.9982\n",
      "Epoch 127/1000\n",
      "61/66 [==========================>...] - ETA: 0s - loss: 0.3491 - accuracy: 0.8847\n",
      "Epoch 127: saving model to model/keypoint_classifier/keypoint_classifier.hdf5\n",
      "66/66 [==============================] - 1s 10ms/step - loss: 0.3488 - accuracy: 0.8859 - val_loss: 0.0748 - val_accuracy: 0.9982\n",
      "Epoch 128/1000\n",
      "63/66 [===========================>..] - ETA: 0s - loss: 0.3327 - accuracy: 0.8904\n",
      "Epoch 128: saving model to model/keypoint_classifier/keypoint_classifier.hdf5\n",
      "66/66 [==============================] - 1s 10ms/step - loss: 0.3327 - accuracy: 0.8902 - val_loss: 0.0710 - val_accuracy: 0.9986\n",
      "Epoch 129/1000\n",
      "61/66 [==========================>...] - ETA: 0s - loss: 0.3288 - accuracy: 0.8876\n",
      "Epoch 129: saving model to model/keypoint_classifier/keypoint_classifier.hdf5\n",
      "66/66 [==============================] - 1s 10ms/step - loss: 0.3307 - accuracy: 0.8866 - val_loss: 0.0760 - val_accuracy: 0.9982\n",
      "Epoch 130/1000\n",
      "63/66 [===========================>..] - ETA: 0s - loss: 0.3429 - accuracy: 0.8852\n",
      "Epoch 130: saving model to model/keypoint_classifier/keypoint_classifier.hdf5\n",
      "66/66 [==============================] - 1s 11ms/step - loss: 0.3465 - accuracy: 0.8834 - val_loss: 0.0780 - val_accuracy: 0.9986\n",
      "Epoch 131/1000\n",
      "56/66 [========================>.....] - ETA: 0s - loss: 0.3422 - accuracy: 0.8842\n",
      "Epoch 131: saving model to model/keypoint_classifier/keypoint_classifier.hdf5\n",
      "66/66 [==============================] - 1s 10ms/step - loss: 0.3360 - accuracy: 0.8868 - val_loss: 0.0750 - val_accuracy: 0.9954\n",
      "Epoch 132/1000\n",
      "63/66 [===========================>..] - ETA: 0s - loss: 0.3498 - accuracy: 0.8775\n",
      "Epoch 132: saving model to model/keypoint_classifier/keypoint_classifier.hdf5\n",
      "66/66 [==============================] - 1s 10ms/step - loss: 0.3505 - accuracy: 0.8770 - val_loss: 0.0818 - val_accuracy: 0.9982\n",
      "Epoch 133/1000\n",
      "63/66 [===========================>..] - ETA: 0s - loss: 0.3440 - accuracy: 0.8852\n",
      "Epoch 133: saving model to model/keypoint_classifier/keypoint_classifier.hdf5\n",
      "66/66 [==============================] - 1s 10ms/step - loss: 0.3447 - accuracy: 0.8847 - val_loss: 0.0764 - val_accuracy: 0.9982\n",
      "Epoch 134/1000\n",
      "64/66 [============================>.] - ETA: 0s - loss: 0.3454 - accuracy: 0.8867\n",
      "Epoch 134: saving model to model/keypoint_classifier/keypoint_classifier.hdf5\n",
      "66/66 [==============================] - 1s 10ms/step - loss: 0.3446 - accuracy: 0.8864 - val_loss: 0.0759 - val_accuracy: 0.9964\n",
      "Epoch 135/1000\n",
      "60/66 [==========================>...] - ETA: 0s - loss: 0.3286 - accuracy: 0.8879\n",
      "Epoch 135: saving model to model/keypoint_classifier/keypoint_classifier.hdf5\n",
      "66/66 [==============================] - 1s 10ms/step - loss: 0.3274 - accuracy: 0.8890 - val_loss: 0.0800 - val_accuracy: 0.9964\n",
      "Epoch 136/1000\n",
      "62/66 [===========================>..] - ETA: 0s - loss: 0.3409 - accuracy: 0.8838\n",
      "Epoch 136: saving model to model/keypoint_classifier/keypoint_classifier.hdf5\n",
      "66/66 [==============================] - 1s 9ms/step - loss: 0.3395 - accuracy: 0.8855 - val_loss: 0.0764 - val_accuracy: 0.9939\n",
      "Epoch 137/1000\n",
      "59/66 [=========================>....] - ETA: 0s - loss: 0.3374 - accuracy: 0.8849\n",
      "Epoch 137: saving model to model/keypoint_classifier/keypoint_classifier.hdf5\n",
      "66/66 [==============================] - 1s 11ms/step - loss: 0.3390 - accuracy: 0.8852 - val_loss: 0.0755 - val_accuracy: 0.9982\n",
      "Epoch 138/1000\n",
      "65/66 [============================>.] - ETA: 0s - loss: 0.3400 - accuracy: 0.8888\n",
      "Epoch 138: saving model to model/keypoint_classifier/keypoint_classifier.hdf5\n",
      "66/66 [==============================] - 1s 10ms/step - loss: 0.3399 - accuracy: 0.8894 - val_loss: 0.0761 - val_accuracy: 0.9964\n",
      "Epoch 139/1000\n",
      "65/66 [============================>.] - ETA: 0s - loss: 0.3339 - accuracy: 0.8857\n",
      "Epoch 139: saving model to model/keypoint_classifier/keypoint_classifier.hdf5\n",
      "66/66 [==============================] - 1s 9ms/step - loss: 0.3351 - accuracy: 0.8855 - val_loss: 0.0784 - val_accuracy: 0.9989\n",
      "Epoch 140/1000\n",
      "60/66 [==========================>...] - ETA: 0s - loss: 0.3313 - accuracy: 0.8887\n",
      "Epoch 140: saving model to model/keypoint_classifier/keypoint_classifier.hdf5\n",
      "66/66 [==============================] - 1s 9ms/step - loss: 0.3319 - accuracy: 0.8889 - val_loss: 0.0779 - val_accuracy: 0.9975\n",
      "Epoch 141/1000\n",
      "66/66 [==============================] - ETA: 0s - loss: 0.3551 - accuracy: 0.8760\n",
      "Epoch 141: saving model to model/keypoint_classifier/keypoint_classifier.hdf5\n",
      "66/66 [==============================] - 1s 9ms/step - loss: 0.3551 - accuracy: 0.8760 - val_loss: 0.0778 - val_accuracy: 0.9982\n",
      "Epoch 142/1000\n",
      "62/66 [===========================>..] - ETA: 0s - loss: 0.3482 - accuracy: 0.8814\n",
      "Epoch 142: saving model to model/keypoint_classifier/keypoint_classifier.hdf5\n",
      "66/66 [==============================] - 1s 10ms/step - loss: 0.3498 - accuracy: 0.8813 - val_loss: 0.0773 - val_accuracy: 0.9989\n",
      "Epoch 143/1000\n",
      "66/66 [==============================] - ETA: 0s - loss: 0.3327 - accuracy: 0.8891\n",
      "Epoch 143: saving model to model/keypoint_classifier/keypoint_classifier.hdf5\n",
      "66/66 [==============================] - 1s 10ms/step - loss: 0.3327 - accuracy: 0.8891 - val_loss: 0.0785 - val_accuracy: 0.9968\n",
      "Epoch 144/1000\n",
      "65/66 [============================>.] - ETA: 0s - loss: 0.3370 - accuracy: 0.8893\n",
      "Epoch 144: saving model to model/keypoint_classifier/keypoint_classifier.hdf5\n",
      "66/66 [==============================] - 1s 9ms/step - loss: 0.3361 - accuracy: 0.8897 - val_loss: 0.0805 - val_accuracy: 0.9982\n",
      "Epoch 145/1000\n",
      "61/66 [==========================>...] - ETA: 0s - loss: 0.3300 - accuracy: 0.8899\n",
      "Epoch 145: saving model to model/keypoint_classifier/keypoint_classifier.hdf5\n",
      "66/66 [==============================] - 1s 10ms/step - loss: 0.3267 - accuracy: 0.8909 - val_loss: 0.0770 - val_accuracy: 0.9922\n",
      "Epoch 146/1000\n",
      "63/66 [===========================>..] - ETA: 0s - loss: 0.3470 - accuracy: 0.8847\n",
      "Epoch 146: saving model to model/keypoint_classifier/keypoint_classifier.hdf5\n",
      "66/66 [==============================] - 1s 9ms/step - loss: 0.3471 - accuracy: 0.8841 - val_loss: 0.0938 - val_accuracy: 0.9957\n",
      "Epoch 147/1000\n",
      "65/66 [============================>.] - ETA: 0s - loss: 0.3351 - accuracy: 0.8919\n",
      "Epoch 147: saving model to model/keypoint_classifier/keypoint_classifier.hdf5\n",
      "66/66 [==============================] - 1s 12ms/step - loss: 0.3351 - accuracy: 0.8919 - val_loss: 0.0835 - val_accuracy: 0.9939\n",
      "Epoch 148/1000\n",
      "57/66 [========================>.....] - ETA: 0s - loss: 0.3250 - accuracy: 0.8920\n",
      "Epoch 148: saving model to model/keypoint_classifier/keypoint_classifier.hdf5\n",
      "66/66 [==============================] - 1s 10ms/step - loss: 0.3255 - accuracy: 0.8910 - val_loss: 0.0762 - val_accuracy: 0.9979\n",
      "Epoch 148: early stopping\n"
     ]
    },
    {
     "data": {
      "text/plain": [
       "<keras.src.callbacks.History at 0x7f723d1d83d0>"
      ]
     },
     "execution_count": 99,
     "metadata": {},
     "output_type": "execute_result"
    }
   ],
   "source": [
    "model.fit(\n",
    "    X_train,\n",
    "    y_train,\n",
    "    epochs=1000,\n",
    "    batch_size=128,\n",
    "    validation_data=(X_test, y_test),\n",
    "    callbacks=[cp_callback, es_callback]\n",
    ")"
   ]
  },
  {
   "cell_type": "code",
   "execution_count": 100,
   "metadata": {},
   "outputs": [
    {
     "name": "stdout",
     "output_type": "stream",
     "text": [
      "22/22 [==============================] - 0s 6ms/step - loss: 0.0762 - accuracy: 0.9979\n"
     ]
    }
   ],
   "source": [
    "# モデル評価\n",
    "val_loss, val_acc = model.evaluate(X_test, y_test, batch_size=128)"
   ]
  },
  {
   "cell_type": "code",
   "execution_count": 101,
   "metadata": {},
   "outputs": [],
   "source": [
    "# 保存したモデルのロード\n",
    "model = tf.keras.models.load_model(model_save_path)"
   ]
  },
  {
   "cell_type": "code",
   "execution_count": 102,
   "metadata": {},
   "outputs": [
    {
     "name": "stdout",
     "output_type": "stream",
     "text": [
      "1/1 [==============================] - 0s 128ms/step\n",
      "[2.5900962e-10 5.1857654e-12 1.0544278e-21 1.6318206e-15 9.9999988e-01\n",
      " 1.5537900e-14 1.5628451e-27 2.7757443e-09 9.5385921e-08 1.3346240e-24]\n",
      "4\n"
     ]
    }
   ],
   "source": [
    "# 推論テスト\n",
    "predict_result = model.predict(np.array([X_test[0]]))\n",
    "print(np.squeeze(predict_result))\n",
    "print(np.argmax(np.squeeze(predict_result)))"
   ]
  },
  {
   "cell_type": "markdown",
   "metadata": {},
   "source": [
    "# 混同行列"
   ]
  },
  {
   "cell_type": "code",
   "execution_count": 103,
   "metadata": {},
   "outputs": [
    {
     "name": "stdout",
     "output_type": "stream",
     "text": [
      "88/88 [==============================] - 0s 4ms/step\n"
     ]
    },
    {
     "data": {
      "image/png": "[encoded data removed]",
      "text/plain": [
       "<Figure size 700x600 with 2 Axes>"
      ]
     },
     "metadata": {},
     "output_type": "display_data"
    },
    {
     "name": "stdout",
     "output_type": "stream",
     "text": [
      "Classification Report\n",
      "              precision    recall  f1-score   support\n",
      "\n",
      "           0       1.00      1.00      1.00       214\n",
      "           1       1.00      1.00      1.00       275\n",
      "           2       1.00      0.99      1.00       241\n",
      "           3       1.00      1.00      1.00       315\n",
      "           4       1.00      1.00      1.00       350\n",
      "           5       1.00      1.00      1.00       229\n",
      "           6       1.00      1.00      1.00       256\n",
      "           7       1.00      1.00      1.00       399\n",
      "           8       1.00      1.00      1.00       248\n",
      "           9       0.99      1.00      0.99       279\n",
      "\n",
      "    accuracy                           1.00      2806\n",
      "   macro avg       1.00      1.00      1.00      2806\n",
      "weighted avg       1.00      1.00      1.00      2806\n",
      "\n"
     ]
    }
   ],
   "source": [
    "import pandas as pd\n",
    "import seaborn as sns\n",
    "import matplotlib.pyplot as plt\n",
    "from sklearn.metrics import confusion_matrix, classification_report\n",
    "\n",
    "def print_confusion_matrix(y_true, y_pred, report=True):\n",
    "    labels = sorted(list(set(y_true)))\n",
    "    cmx_data = confusion_matrix(y_true, y_pred, labels=labels)\n",
    "    \n",
    "    df_cmx = pd.DataFrame(cmx_data, index=labels, columns=labels)\n",
    " \n",
    "    fig, ax = plt.subplots(figsize=(7, 6))\n",
    "    sns.heatmap(df_cmx, annot=True, fmt='g' ,square=False)\n",
    "    ax.set_ylim(len(set(y_true)), 0)\n",
    "    plt.show()\n",
    "    \n",
    "    if report:\n",
    "        print('Classification Report')\n",
    "        print(classification_report(y_test, y_pred))\n",
    "\n",
    "Y_pred = model.predict(X_test)\n",
    "y_pred = np.argmax(Y_pred, axis=1)\n",
    "\n",
    "print_confusion_matrix(y_test, y_pred)"
   ]
  },
  {
   "cell_type": "markdown",
   "metadata": {},
   "source": [
    "# Tensorflow-Lite用のモデルへ変換"
   ]
  },
  {
   "cell_type": "code",
   "execution_count": 104,
   "metadata": {},
   "outputs": [
    {
     "name": "stderr",
     "output_type": "stream",
     "text": [
      "/home/masooma/.local/lib/python3.10/site-packages/keras/src/engine/training.py:3000: UserWarning: You are saving your model as an HDF5 file via `model.save()`. This file format is considered legacy. We recommend using instead the native Keras format, e.g. `model.save('my_model.keras')`.\n",
      "  saving_api.save_model(\n"
     ]
    }
   ],
   "source": [
    "# 推論専用のモデルとして保存\n",
    "model.save(model_save_path, include_optimizer=False)"
   ]
  },
  {
   "cell_type": "code",
   "execution_count": 105,
   "metadata": {},
   "outputs": [
    {
     "name": "stdout",
     "output_type": "stream",
     "text": [
      "INFO:tensorflow:Assets written to: /tmp/tmp2a5lwddn/assets\n"
     ]
    },
    {
     "name": "stderr",
     "output_type": "stream",
     "text": [
      "INFO:tensorflow:Assets written to: /tmp/tmp2a5lwddn/assets\n",
      "2023-08-21 20:28:15.686378: W tensorflow/compiler/mlir/lite/python/tf_tfl_flatbuffer_helpers.cc:364] Ignored output_format.\n",
      "2023-08-21 20:28:15.686494: W tensorflow/compiler/mlir/lite/python/tf_tfl_flatbuffer_helpers.cc:367] Ignored drop_control_dependency.\n",
      "2023-08-21 20:28:15.686987: I tensorflow/cc/saved_model/reader.cc:45] Reading SavedModel from: /tmp/tmp2a5lwddn\n",
      "2023-08-21 20:28:15.690804: I tensorflow/cc/saved_model/reader.cc:91] Reading meta graph with tags { serve }\n",
      "2023-08-21 20:28:15.690852: I tensorflow/cc/saved_model/reader.cc:132] Reading SavedModel debug info (if present) from: /tmp/tmp2a5lwddn\n",
      "2023-08-21 20:28:15.705057: I tensorflow/cc/saved_model/loader.cc:231] Restoring SavedModel bundle.\n",
      "2023-08-21 20:28:15.819264: I tensorflow/cc/saved_model/loader.cc:215] Running initialization op on SavedModel bundle at path: /tmp/tmp2a5lwddn\n",
      "2023-08-21 20:28:15.860582: I tensorflow/cc/saved_model/loader.cc:314] SavedModel load for tags { serve }; Status: success: OK. Took 173597 microseconds.\n"
     ]
    },
    {
     "data": {
      "text/plain": [
       "6872"
      ]
     },
     "execution_count": 105,
     "metadata": {},
     "output_type": "execute_result"
    }
   ],
   "source": [
    "# モデルを変換(量子化)\n",
    "tflite_save_path = 'model/keypoint_classifier/keypoint_classifier.tflite'\n",
    "\n",
    "converter = tf.lite.TFLiteConverter.from_keras_model(model)\n",
    "converter.optimizations = [tf.lite.Optimize.DEFAULT]\n",
    "tflite_quantized_model = converter.convert()\n",
    "\n",
    "open(tflite_save_path, 'wb').write(tflite_quantized_model)"
   ]
  },
  {
   "cell_type": "markdown",
   "metadata": {},
   "source": [
    "# 推論テスト"
   ]
  },
  {
   "cell_type": "code",
   "execution_count": 106,
   "metadata": {},
   "outputs": [],
   "source": [
    "interpreter = tf.lite.Interpreter(model_path=tflite_save_path)\n",
    "interpreter.allocate_tensors()"
   ]
  },
  {
   "cell_type": "code",
   "execution_count": 107,
   "metadata": {},
   "outputs": [],
   "source": [
    "# 入出力テンソルを取得\n",
    "input_details = interpreter.get_input_details()\n",
    "output_details = interpreter.get_output_details()"
   ]
  },
  {
   "cell_type": "code",
   "execution_count": 108,
   "metadata": {},
   "outputs": [],
   "source": [
    "interpreter.set_tensor(input_details[0]['index'], np.array([X_test[0]]))"
   ]
  },
  {
   "cell_type": "code",
   "execution_count": 109,
   "metadata": {
    "scrolled": true
   },
   "outputs": [
    {
     "name": "stdout",
     "output_type": "stream",
     "text": [
      "CPU times: user 139 µs, sys: 49 µs, total: 188 µs\n",
      "Wall time: 121 µs\n"
     ]
    }
   ],
   "source": [
    "%%time\n",
    "# 推論実施\n",
    "interpreter.invoke()\n",
    "tflite_results = interpreter.get_tensor(output_details[0]['index'])"
   ]
  },
  {
   "cell_type": "code",
   "execution_count": 110,
   "metadata": {},
   "outputs": [
    {
     "name": "stdout",
     "output_type": "stream",
     "text": [
      "[2.5901009e-10 5.1857355e-12 1.0544318e-21 1.6318331e-15 9.9999988e-01\n",
      " 1.5537900e-14 1.5628510e-27 2.7757447e-09 9.5385914e-08 1.3346290e-24]\n",
      "4\n"
     ]
    }
   ],
   "source": [
    "print(np.squeeze(tflite_results))\n",
    "print(np.argmax(np.squeeze(tflite_results)))"
   ]
  }
 ],
 "metadata": {
  "kernelspec": {
   "display_name": "Python 3 (ipykernel)",
   "language": "python",
   "name": "python3"
  },
  "language_info": {
   "codemirror_mode": {
    "name": "ipython",
    "version": 3
   },
   "file_extension": ".py",
   "mimetype": "text/x-python",
   "name": "python",
   "nbconvert_exporter": "python",
   "pygments_lexer": "ipython3",
   "version": "3.10.12"
  }
 },
 "nbformat": 4,
 "nbformat_minor": 4
}
